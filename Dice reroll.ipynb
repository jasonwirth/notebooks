{
 "metadata": {
  "name": "",
  "signature": "sha256:870f95a7f0b7221d1140712ba09a6a7e25cf722976957712736177d27c695e23"
 },
 "nbformat": 3,
 "nbformat_minor": 0,
 "worksheets": [
  {
   "cells": [
    {
     "cell_type": "markdown",
     "metadata": {},
     "source": [
      "# Problem 1"
     ]
    },
    {
     "cell_type": "markdown",
     "metadata": {},
     "source": [
      "There is a game where a player rolls a die. They get $1 for ever dot shown. \n",
      "\n",
      "What is the expected value of the roll?"
     ]
    },
    {
     "cell_type": "code",
     "collapsed": false,
     "input": [
      "import random\n",
      "from __future__ import division\n",
      "\n",
      "import pandas as pd\n",
      "\n",
      "GAMES = 100000"
     ],
     "language": "python",
     "metadata": {},
     "outputs": [],
     "prompt_number": 2
    },
    {
     "cell_type": "markdown",
     "metadata": {},
     "source": [
      "### Define some helper functions"
     ]
    },
    {
     "cell_type": "code",
     "collapsed": false,
     "input": [
      "# Helper function\n",
      "# Expected value is basically the Payout x the number of occurances\n",
      "def expected_value(lst):\n",
      "    return sum(lst)/len(lst)\n",
      "\n",
      "# Create a play function that sims rolling multiple times and gives us the expected value\n",
      "def play(roll_func):\n",
      "    return expected_value([roll_func() for i in range(GAMES)])"
     ],
     "language": "python",
     "metadata": {},
     "outputs": [],
     "prompt_number": 3
    },
    {
     "cell_type": "markdown",
     "metadata": {},
     "source": [
      "## The simple case\n",
      "\n",
      "The simple case of the EV (expected value) for a single die toss\n",
      "\n"
     ]
    },
    {
     "cell_type": "code",
     "collapsed": false,
     "input": [
      "def play_simple():\n",
      "    score = random.randint(1,6)\n",
      "    return score"
     ],
     "language": "python",
     "metadata": {},
     "outputs": [],
     "prompt_number": 4
    },
    {
     "cell_type": "code",
     "collapsed": false,
     "input": [
      "play(play_simple)"
     ],
     "language": "python",
     "metadata": {},
     "outputs": [
      {
       "metadata": {},
       "output_type": "pyout",
       "prompt_number": 5,
       "text": [
        "3.4929999999999999"
       ]
      }
     ],
     "prompt_number": 5
    },
    {
     "cell_type": "markdown",
     "metadata": {},
     "source": [
      "<hr>\n",
      "# Problem 2: The case of a re-roll\n",
      "\n",
      "In this game we give the player the option of rolling a second time. They can roll, and if they don't like the result, they can play again.\n",
      "\n",
      "What is the expected value of this new game?"
     ]
    },
    {
     "cell_type": "code",
     "collapsed": false,
     "input": [
      "# Create a function that generates n number of retries. Give a value for the player to stop.\n",
      "def reroll_n(n, stop=4):\n",
      "    for i in range(n):\n",
      "        score = random.randint(1,6)\n",
      "        if score >= stop:\n",
      "            return score\n",
      "    return score"
     ],
     "language": "python",
     "metadata": {},
     "outputs": [],
     "prompt_number": 6
    },
    {
     "cell_type": "code",
     "collapsed": false,
     "input": [
      "play(lambda:reroll_n(2))"
     ],
     "language": "python",
     "metadata": {},
     "outputs": [
      {
       "metadata": {},
       "output_type": "pyout",
       "prompt_number": 7,
       "text": [
        "4.25061"
       ]
      }
     ],
     "prompt_number": 7
    },
    {
     "cell_type": "code",
     "collapsed": false,
     "input": [
      "play(lambda:reroll_n(2, stop=4))"
     ],
     "language": "python",
     "metadata": {},
     "outputs": [
      {
       "metadata": {},
       "output_type": "pyout",
       "prompt_number": 8,
       "text": [
        "4.2457900000000004"
       ]
      }
     ],
     "prompt_number": 8
    },
    {
     "cell_type": "markdown",
     "metadata": {},
     "source": [
      "# Mathematical intuition\n",
      "\n",
      "When we play the simple game of one roll the best the user can do is get 3.5 in the long run. \n",
      "\n",
      "### To roll or not to roll?\n",
      "\n",
      "The question of re rolling is based off the idea that any new roll is completely indepedant of previous rolls, so the expected value is always going to be 3.5. If a player gets a high number (e.g. something greater than 3.5), he'll choose to keep it as on average, his next roll be worse. A player with score lower than 3.5 would choose to roll again because they have a 50-50 shot at beating the 3.5 expected value.\n",
      "\n",
      "Let's say that we are going to have 100 people play.\n",
      "After roll 1: 50 people will have a score > 3.5 (e.g. 4, 5, 6) and 50 will have a score lower (1, 2, 3). \n",
      "\n",
      "The people who stop playing have an expected value of 5 == sum(4, 5, 6) / 3. \n",
      "\n",
      "The people who continue playing have an expected value of 3.5 = sum(1, 2, 3, 4, 5, 6) / 6\n",
      "\n",
      "Those with the high score stop, and those with a low score choose to roll again because on average they will get 3.5, which is better than 1, 2, 3. Thus, only 1/2 of the peole will re roll. \n",
      "\n",
      "It's as if we are playing the game again, but now the number of people is 50, instead of 100. 25 of those people will have a score greater than 3.5, and 25 lower. If given the option to roll again, now only 13 people (12.5 really) will choose to re-roll if given the option. Thus, each time we play, the number of people who want to reroll divides in half.\n"
     ]
    },
    {
     "cell_type": "code",
     "collapsed": false,
     "input": [
      "(6 + 5 + 4) / 3"
     ],
     "language": "python",
     "metadata": {},
     "outputs": [
      {
       "metadata": {},
       "output_type": "pyout",
       "prompt_number": 9,
       "text": [
        "5.0"
       ]
      }
     ],
     "prompt_number": 9
    },
    {
     "cell_type": "markdown",
     "metadata": {},
     "source": [
      "### With 1 reroll"
     ]
    },
    {
     "cell_type": "code",
     "collapsed": false,
     "input": [
      "1/2 * 5 + \\\n",
      "1/2 * 3.5"
     ],
     "language": "python",
     "metadata": {},
     "outputs": [
      {
       "metadata": {},
       "output_type": "pyout",
       "prompt_number": 10,
       "text": [
        "4.25"
       ]
      }
     ],
     "prompt_number": 10
    },
    {
     "cell_type": "markdown",
     "metadata": {},
     "source": [
      "### With 2 rerolls"
     ]
    },
    {
     "cell_type": "code",
     "collapsed": false,
     "input": [
      "1/2 * 5 + \\\n",
      "1/4 * 5 + \\\n",
      "1/4 * 3.5"
     ],
     "language": "python",
     "metadata": {},
     "outputs": [
      {
       "metadata": {},
       "output_type": "pyout",
       "prompt_number": 11,
       "text": [
        "4.625"
       ]
      }
     ],
     "prompt_number": 11
    },
    {
     "cell_type": "markdown",
     "metadata": {},
     "source": [
      "### With 3 rerolls"
     ]
    },
    {
     "cell_type": "code",
     "collapsed": false,
     "input": [
      "1/2 * 5 + \\\n",
      "1/4 * 5 + \\\n",
      "1/8 * 5 + \\\n",
      "1/8 * 3.5"
     ],
     "language": "python",
     "metadata": {},
     "outputs": [
      {
       "metadata": {},
       "output_type": "pyout",
       "prompt_number": 12,
       "text": [
        "4.8125"
       ]
      }
     ],
     "prompt_number": 12
    },
    {
     "cell_type": "markdown",
     "metadata": {},
     "source": [
      "# What happens as we increase the number of rolls each time and change the value at which we stop?"
     ]
    },
    {
     "cell_type": "code",
     "collapsed": false,
     "input": [
      "rerolls = [1, 2, 3, 4, 5, 6, 10, 25, 50, 75, 100]\n",
      "data = {stop: [play(lambda:reroll_n(n, stop=stop)) for n in rerolls] for stop in [2, 3, 4, 5, 6]}\n",
      "df = pd.DataFrame(data, index=rerolls)"
     ],
     "language": "python",
     "metadata": {},
     "outputs": [],
     "prompt_number": 18
    },
    {
     "cell_type": "code",
     "collapsed": false,
     "input": [
      "df.index.name = \"Num re-rolls\"\n",
      "df.columns.name = \"Stop at point\"\n",
      "df"
     ],
     "language": "python",
     "metadata": {},
     "outputs": [
      {
       "html": [
        "<div style=\"max-height:1000px;max-width:1500px;overflow:auto;\">\n",
        "<table border=\"1\" class=\"dataframe\">\n",
        "  <thead>\n",
        "    <tr style=\"text-align: right;\">\n",
        "      <th>Stop at point</th>\n",
        "      <th>2</th>\n",
        "      <th>3</th>\n",
        "      <th>4</th>\n",
        "      <th>5</th>\n",
        "      <th>6</th>\n",
        "    </tr>\n",
        "    <tr>\n",
        "      <th>Num re-rolls</th>\n",
        "      <th></th>\n",
        "      <th></th>\n",
        "      <th></th>\n",
        "      <th></th>\n",
        "      <th></th>\n",
        "    </tr>\n",
        "  </thead>\n",
        "  <tbody>\n",
        "    <tr>\n",
        "      <th>1  </th>\n",
        "      <td> 3.49243</td>\n",
        "      <td> 3.49627</td>\n",
        "      <td> 3.49742</td>\n",
        "      <td> 3.49443</td>\n",
        "      <td> 3.49832</td>\n",
        "    </tr>\n",
        "    <tr>\n",
        "      <th>2  </th>\n",
        "      <td> 3.90502</td>\n",
        "      <td> 4.17793</td>\n",
        "      <td> 4.24338</td>\n",
        "      <td> 4.16957</td>\n",
        "      <td> 3.92463</td>\n",
        "    </tr>\n",
        "    <tr>\n",
        "      <th>3  </th>\n",
        "      <td> 3.97977</td>\n",
        "      <td> 4.39031</td>\n",
        "      <td> 4.62835</td>\n",
        "      <td> 4.60844</td>\n",
        "      <td> 4.26786</td>\n",
        "    </tr>\n",
        "    <tr>\n",
        "      <th>4  </th>\n",
        "      <td> 4.00163</td>\n",
        "      <td> 4.45847</td>\n",
        "      <td> 4.81113</td>\n",
        "      <td> 4.91522</td>\n",
        "      <td> 4.55898</td>\n",
        "    </tr>\n",
        "    <tr>\n",
        "      <th>5  </th>\n",
        "      <td> 4.00462</td>\n",
        "      <td> 4.48753</td>\n",
        "      <td> 4.91042</td>\n",
        "      <td> 5.10551</td>\n",
        "      <td> 4.78938</td>\n",
        "    </tr>\n",
        "    <tr>\n",
        "      <th>6  </th>\n",
        "      <td> 3.99919</td>\n",
        "      <td> 4.49080</td>\n",
        "      <td> 4.95702</td>\n",
        "      <td> 5.23804</td>\n",
        "      <td> 4.99227</td>\n",
        "    </tr>\n",
        "    <tr>\n",
        "      <th>10 </th>\n",
        "      <td> 3.99939</td>\n",
        "      <td> 4.50466</td>\n",
        "      <td> 4.99459</td>\n",
        "      <td> 5.44759</td>\n",
        "      <td> 5.51696</td>\n",
        "    </tr>\n",
        "    <tr>\n",
        "      <th>25 </th>\n",
        "      <td> 4.00233</td>\n",
        "      <td> 4.50068</td>\n",
        "      <td> 5.00238</td>\n",
        "      <td> 5.50044</td>\n",
        "      <td> 5.96873</td>\n",
        "    </tr>\n",
        "    <tr>\n",
        "      <th>50 </th>\n",
        "      <td> 3.99768</td>\n",
        "      <td> 4.50113</td>\n",
        "      <td> 4.99721</td>\n",
        "      <td> 5.50169</td>\n",
        "      <td> 5.99965</td>\n",
        "    </tr>\n",
        "    <tr>\n",
        "      <th>75 </th>\n",
        "      <td> 4.00463</td>\n",
        "      <td> 4.49870</td>\n",
        "      <td> 4.99755</td>\n",
        "      <td> 5.50259</td>\n",
        "      <td> 6.00000</td>\n",
        "    </tr>\n",
        "    <tr>\n",
        "      <th>100</th>\n",
        "      <td> 3.99702</td>\n",
        "      <td> 4.50139</td>\n",
        "      <td> 4.99849</td>\n",
        "      <td> 5.50057</td>\n",
        "      <td> 6.00000</td>\n",
        "    </tr>\n",
        "  </tbody>\n",
        "</table>\n",
        "<p>11 rows \u00d7 5 columns</p>\n",
        "</div>"
       ],
       "metadata": {},
       "output_type": "pyout",
       "prompt_number": 31,
       "text": [
        "Stop at point        2        3        4        5        6\n",
        "Num re-rolls                                              \n",
        "1              3.49243  3.49627  3.49742  3.49443  3.49832\n",
        "2              3.90502  4.17793  4.24338  4.16957  3.92463\n",
        "3              3.97977  4.39031  4.62835  4.60844  4.26786\n",
        "4              4.00163  4.45847  4.81113  4.91522  4.55898\n",
        "5              4.00462  4.48753  4.91042  5.10551  4.78938\n",
        "6              3.99919  4.49080  4.95702  5.23804  4.99227\n",
        "10             3.99939  4.50466  4.99459  5.44759  5.51696\n",
        "25             4.00233  4.50068  5.00238  5.50044  5.96873\n",
        "50             3.99768  4.50113  4.99721  5.50169  5.99965\n",
        "75             4.00463  4.49870  4.99755  5.50259  6.00000\n",
        "100            3.99702  4.50139  4.99849  5.50057  6.00000\n",
        "\n",
        "[11 rows x 5 columns]"
       ]
      }
     ],
     "prompt_number": 31
    },
    {
     "cell_type": "code",
     "collapsed": false,
     "input": [
      "df.plot(logx=True, title=\"Expected Value of Re-rolling\")\n",
      "plt.legend(loc=\"lower right\")"
     ],
     "language": "python",
     "metadata": {},
     "outputs": [
      {
       "metadata": {},
       "output_type": "pyout",
       "prompt_number": 33,
       "text": [
        "<matplotlib.legend.Legend at 0x7efefda63c50>"
       ]
      },
      {
       "metadata": {},
       "output_type": "display_data",
       "png": "[encoded data removed]",
       "text": [
        "<matplotlib.figure.Figure at 0x7efefda63fd0>"
       ]
      }
     ],
     "prompt_number": 33
    },
    {
     "cell_type": "code",
     "collapsed": false,
     "input": [],
     "language": "python",
     "metadata": {},
     "outputs": []
    }
   ],
   "metadata": {}
  }
 ]
}