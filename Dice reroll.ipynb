{
 "metadata": {
  "name": "",
  "signature": "sha256:8088572c0201d7c5d14a6a7836d405658f641b3db18f1b5c3a34f781001eb624"
 },
 "nbformat": 3,
 "nbformat_minor": 0,
 "worksheets": [
  {
   "cells": [
    {
     "cell_type": "markdown",
     "metadata": {},
     "source": [
      "# Problem 1"
     ]
    },
    {
     "cell_type": "markdown",
     "metadata": {},
     "source": [
      "There is a game where a player rolls a die. They get $1 for ever dot shown. \n",
      "\n",
      "What is the expected value of the roll?"
     ]
    },
    {
     "cell_type": "code",
     "collapsed": false,
     "input": [
      "import random\n",
      "from __future__ import division\n",
      "\n",
      "import pandas as pd\n",
      "\n",
      "GAMES = 100000"
     ],
     "language": "python",
     "metadata": {},
     "outputs": [],
     "prompt_number": 1
    },
    {
     "cell_type": "markdown",
     "metadata": {},
     "source": [
      "### Define some helper functions"
     ]
    },
    {
     "cell_type": "code",
     "collapsed": false,
     "input": [
      "# Helper function\n",
      "# Expected value is basically the Payout x the number of occurances\n",
      "def expected_value(lst):\n",
      "    return sum(lst)/len(lst)\n",
      "\n",
      "# Create a play function that sims rolling multiple times and gives us the expected value\n",
      "def play(roll_func):\n",
      "    return expected_value([roll_func() for i in range(GAMES)])"
     ],
     "language": "python",
     "metadata": {},
     "outputs": [],
     "prompt_number": 94
    },
    {
     "cell_type": "markdown",
     "metadata": {},
     "source": [
      "## The simple case\n",
      "\n",
      "The simple case of the EV (expected value) for a single die toss\n",
      "\n"
     ]
    },
    {
     "cell_type": "code",
     "collapsed": false,
     "input": [
      "def play_simple():\n",
      "    score = random.randint(1,6)\n",
      "    return score"
     ],
     "language": "python",
     "metadata": {},
     "outputs": [],
     "prompt_number": 95
    },
    {
     "cell_type": "code",
     "collapsed": false,
     "input": [
      "play(play_simple)"
     ],
     "language": "python",
     "metadata": {},
     "outputs": [
      {
       "metadata": {},
       "output_type": "pyout",
       "prompt_number": 96,
       "text": [
        "3.49905"
       ]
      }
     ],
     "prompt_number": 96
    },
    {
     "cell_type": "markdown",
     "metadata": {},
     "source": [
      "<hr>\n",
      "# Problem 2: The case of a re-roll\n",
      "\n",
      "In this game we give the player the option of rolling a second time. They can roll, and if they don't like the result, they can play again.\n",
      "\n",
      "What is the expected value of this new game?"
     ]
    },
    {
     "cell_type": "code",
     "collapsed": false,
     "input": [
      "# Create a function that generates n number of retries. Give a value for the player to stop.\n",
      "def reroll_n(n, stop=4):\n",
      "    for i in range(n):\n",
      "        score = random.randint(1,6)\n",
      "        if score >= stop:\n",
      "            return score\n",
      "    return score"
     ],
     "language": "python",
     "metadata": {},
     "outputs": [],
     "prompt_number": 98
    },
    {
     "cell_type": "code",
     "collapsed": false,
     "input": [
      "play(lambda:reroll_n(2))"
     ],
     "language": "python",
     "metadata": {},
     "outputs": [
      {
       "metadata": {},
       "output_type": "pyout",
       "prompt_number": 99,
       "text": [
        "4.2499900000000004"
       ]
      }
     ],
     "prompt_number": 99
    },
    {
     "cell_type": "code",
     "collapsed": false,
     "input": [
      "play(lambda:reroll_n(2, stop=4))"
     ],
     "language": "python",
     "metadata": {},
     "outputs": [
      {
       "metadata": {},
       "output_type": "pyout",
       "prompt_number": 45,
       "text": [
        "4.2552000000000003"
       ]
      }
     ],
     "prompt_number": 45
    },
    {
     "cell_type": "markdown",
     "metadata": {},
     "source": [
      "# Mathematical intuition\n",
      "\n",
      "When we play the simple game of one roll the best the user can do is get 3.5 in the long run. \n",
      "\n",
      "### To roll or not to roll?\n",
      "\n",
      "The question of re rolling is based off the idea that any new roll is completely indepedant of previous rolls, so the expected value is always going to be 3.5. If a player gets a high number (e.g. something greater than 3.5), he'll choose to keep it as on average, his next roll be worse. A player with score lower than 3.5 would choose to roll again because they have a 50-50 shot at beating the 3.5 expected value.\n",
      "\n",
      "Let's say that we are going to have 100 people play.\n",
      "After roll 1: 50 people will have a score > 3.5 (e.g. 4, 5, 6) and 50 will have a score lower (1, 2, 3). \n",
      "\n",
      "The people who stop playing have an expected value of 5 == sum(4, 5, 6) / 3. \n",
      "\n",
      "The people who continue playing have an expected value of 3.5 = sum(1, 2, 3, 4, 5, 6) / 6\n",
      "\n",
      "Those with the high score stop, and those with a low score choose to roll again because on average they will get 3.5, which is better than 1, 2, 3. Thus, only 1/2 of the peole will re roll. \n",
      "\n",
      "It's as if we are playing the game again, but now the number of people is 50, instead of 100. 25 of those people will have a score greater than 3.5, and 25 lower. If given the option to roll again, now only 13 people (12.5 really) will choose to re-roll if given the option. Thus, each time we play, the number of people who want to reroll divides in half.\n"
     ]
    },
    {
     "cell_type": "code",
     "collapsed": false,
     "input": [
      "(6 + 5 + 4) / 3"
     ],
     "language": "python",
     "metadata": {},
     "outputs": [
      {
       "metadata": {},
       "output_type": "pyout",
       "prompt_number": 70,
       "text": [
        "5.0"
       ]
      }
     ],
     "prompt_number": 70
    },
    {
     "cell_type": "markdown",
     "metadata": {},
     "source": [
      "### With 1 reroll"
     ]
    },
    {
     "cell_type": "code",
     "collapsed": false,
     "input": [
      "1/2 * 5 + \\\n",
      "1/2 * 3.5"
     ],
     "language": "python",
     "metadata": {},
     "outputs": [
      {
       "metadata": {},
       "output_type": "pyout",
       "prompt_number": 80,
       "text": [
        "4.25"
       ]
      }
     ],
     "prompt_number": 80
    },
    {
     "cell_type": "markdown",
     "metadata": {},
     "source": [
      "### With 2 rerolls"
     ]
    },
    {
     "cell_type": "code",
     "collapsed": false,
     "input": [
      "1/2 * 5 + \\\n",
      "1/4 * 5 + \\\n",
      "1/4 * 3.5"
     ],
     "language": "python",
     "metadata": {},
     "outputs": [
      {
       "metadata": {},
       "output_type": "pyout",
       "prompt_number": 81,
       "text": [
        "4.625"
       ]
      }
     ],
     "prompt_number": 81
    },
    {
     "cell_type": "markdown",
     "metadata": {},
     "source": [
      "### With 3 rerolls"
     ]
    },
    {
     "cell_type": "code",
     "collapsed": false,
     "input": [
      "1/2 * 5 + \\\n",
      "1/4 * 5 + \\\n",
      "1/8 * 5 + \\\n",
      "1/8 * 3.5"
     ],
     "language": "python",
     "metadata": {},
     "outputs": [
      {
       "metadata": {},
       "output_type": "pyout",
       "prompt_number": 82,
       "text": [
        "4.8125"
       ]
      }
     ],
     "prompt_number": 82
    },
    {
     "cell_type": "markdown",
     "metadata": {},
     "source": [
      "# What happens as we increase the number of rolls each time and change the value at which we stop?"
     ]
    },
    {
     "cell_type": "code",
     "collapsed": false,
     "input": [
      "rerolls = [1, 2, 3, 4, 5, 6, 10, 25, 50, 75, 100]\n",
      "data = {stop: [play(lambda:reroll_n(n, stop=stop)) for n in rerolls] for stop in [2, 3, 4, 5, 6]}\n",
      "df = pd.DataFrame(data, index=rerolls)"
     ],
     "language": "python",
     "metadata": {},
     "outputs": [],
     "prompt_number": 42
    },
    {
     "cell_type": "code",
     "collapsed": false,
     "input": [
      "df"
     ],
     "language": "python",
     "metadata": {},
     "outputs": [
      {
       "html": [
        "<div style=\"max-height:1000px;max-width:1500px;overflow:auto;\">\n",
        "<table border=\"1\" class=\"dataframe\">\n",
        "  <thead>\n",
        "    <tr style=\"text-align: right;\">\n",
        "      <th></th>\n",
        "      <th>2</th>\n",
        "      <th>3</th>\n",
        "      <th>4</th>\n",
        "      <th>5</th>\n",
        "      <th>6</th>\n",
        "    </tr>\n",
        "  </thead>\n",
        "  <tbody>\n",
        "    <tr>\n",
        "      <th>1  </th>\n",
        "      <td> 3.49788</td>\n",
        "      <td> 3.50664</td>\n",
        "      <td> 3.50774</td>\n",
        "      <td> 3.50297</td>\n",
        "      <td> 3.49888</td>\n",
        "    </tr>\n",
        "    <tr>\n",
        "      <th>2  </th>\n",
        "      <td> 3.91513</td>\n",
        "      <td> 4.16164</td>\n",
        "      <td> 4.24564</td>\n",
        "      <td> 4.16733</td>\n",
        "      <td> 3.91741</td>\n",
        "    </tr>\n",
        "    <tr>\n",
        "      <th>3  </th>\n",
        "      <td> 3.99002</td>\n",
        "      <td> 4.39464</td>\n",
        "      <td> 4.62656</td>\n",
        "      <td> 4.60381</td>\n",
        "      <td> 4.26517</td>\n",
        "    </tr>\n",
        "    <tr>\n",
        "      <th>4  </th>\n",
        "      <td> 3.99159</td>\n",
        "      <td> 4.46305</td>\n",
        "      <td> 4.81954</td>\n",
        "      <td> 4.89955</td>\n",
        "      <td> 4.55844</td>\n",
        "    </tr>\n",
        "    <tr>\n",
        "      <th>5  </th>\n",
        "      <td> 4.00641</td>\n",
        "      <td> 4.49195</td>\n",
        "      <td> 4.90957</td>\n",
        "      <td> 5.10862</td>\n",
        "      <td> 4.80008</td>\n",
        "    </tr>\n",
        "    <tr>\n",
        "      <th>6  </th>\n",
        "      <td> 4.00065</td>\n",
        "      <td> 4.49529</td>\n",
        "      <td> 4.95733</td>\n",
        "      <td> 5.23624</td>\n",
        "      <td> 4.98985</td>\n",
        "    </tr>\n",
        "    <tr>\n",
        "      <th>10 </th>\n",
        "      <td> 3.99953</td>\n",
        "      <td> 4.50141</td>\n",
        "      <td> 4.99441</td>\n",
        "      <td> 5.44688</td>\n",
        "      <td> 5.50993</td>\n",
        "    </tr>\n",
        "    <tr>\n",
        "      <th>25 </th>\n",
        "      <td> 4.00443</td>\n",
        "      <td> 4.49771</td>\n",
        "      <td> 4.99458</td>\n",
        "      <td> 5.50048</td>\n",
        "      <td> 5.96865</td>\n",
        "    </tr>\n",
        "    <tr>\n",
        "      <th>50 </th>\n",
        "      <td> 3.99750</td>\n",
        "      <td> 4.49784</td>\n",
        "      <td> 4.99882</td>\n",
        "      <td> 5.50007</td>\n",
        "      <td> 5.99969</td>\n",
        "    </tr>\n",
        "    <tr>\n",
        "      <th>75 </th>\n",
        "      <td> 3.99756</td>\n",
        "      <td> 4.49426</td>\n",
        "      <td> 4.99680</td>\n",
        "      <td> 5.49746</td>\n",
        "      <td> 6.00000</td>\n",
        "    </tr>\n",
        "    <tr>\n",
        "      <th>100</th>\n",
        "      <td> 3.99902</td>\n",
        "      <td> 4.50401</td>\n",
        "      <td> 5.00275</td>\n",
        "      <td> 5.50046</td>\n",
        "      <td> 6.00000</td>\n",
        "    </tr>\n",
        "  </tbody>\n",
        "</table>\n",
        "<p>11 rows \u00d7 5 columns</p>\n",
        "</div>"
       ],
       "metadata": {},
       "output_type": "pyout",
       "prompt_number": 43,
       "text": [
        "           2        3        4        5        6\n",
        "1    3.49788  3.50664  3.50774  3.50297  3.49888\n",
        "2    3.91513  4.16164  4.24564  4.16733  3.91741\n",
        "3    3.99002  4.39464  4.62656  4.60381  4.26517\n",
        "4    3.99159  4.46305  4.81954  4.89955  4.55844\n",
        "5    4.00641  4.49195  4.90957  5.10862  4.80008\n",
        "6    4.00065  4.49529  4.95733  5.23624  4.98985\n",
        "10   3.99953  4.50141  4.99441  5.44688  5.50993\n",
        "25   4.00443  4.49771  4.99458  5.50048  5.96865\n",
        "50   3.99750  4.49784  4.99882  5.50007  5.99969\n",
        "75   3.99756  4.49426  4.99680  5.49746  6.00000\n",
        "100  3.99902  4.50401  5.00275  5.50046  6.00000\n",
        "\n",
        "[11 rows x 5 columns]"
       ]
      }
     ],
     "prompt_number": 43
    },
    {
     "cell_type": "code",
     "collapsed": false,
     "input": [
      "df.plot(logx=True)"
     ],
     "language": "python",
     "metadata": {},
     "outputs": [
      {
       "metadata": {},
       "output_type": "pyout",
       "prompt_number": 44,
       "text": [
        "<matplotlib.axes.AxesSubplot at 0x655ef50>"
       ]
      },
      {
       "metadata": {},
       "output_type": "display_data",
       "png": "[encoded data removed]",
       "text": [
        "<matplotlib.figure.Figure at 0x68069d0>"
       ]
      }
     ],
     "prompt_number": 44
    },
    {
     "cell_type": "code",
     "collapsed": false,
     "input": [
      "gca"
     ],
     "language": "python",
     "metadata": {},
     "outputs": []
    }
   ],
   "metadata": {}
  }
 ]
}